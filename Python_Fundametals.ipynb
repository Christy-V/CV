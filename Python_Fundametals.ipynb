{
  "nbformat": 4,
  "nbformat_minor": 0,
  "metadata": {
    "colab": {
      "name": "Python_Fundametals.ipynb",
      "provenance": [],
      "authorship_tag": "ABX9TyPbhftOwK0jrtFM5nIthDs1",
      "include_colab_link": true
    },
    "kernelspec": {
      "name": "python3",
      "display_name": "Python 3"
    },
    "language_info": {
      "name": "python"
    }
  },
  "cells": [
    {
      "cell_type": "markdown",
      "metadata": {
        "id": "view-in-github",
        "colab_type": "text"
      },
      "source": [
        "<a href=\"https://colab.research.google.com/github/Christy-V/CV/blob/main/Python_Fundametals.ipynb\" target=\"_parent\"><img src=\"https://colab.research.google.com/assets/colab-badge.svg\" alt=\"Open In Colab\"/></a>"
      ]
    },
    {
      "cell_type": "markdown",
      "metadata": {
        "id": "di605bbTt6wH"
      },
      "source": [
        "### Why Python?\n",
        "\n",
        "* Python is easy to learn \n",
        "\n",
        "* Python has lots of powerfull linraries and modules for datascience.\n",
        "\n",
        "* Python is a generall language and is intensively used in industry"
      ]
    },
    {
      "cell_type": "markdown",
      "metadata": {
        "id": "Zny9OjcEuoIc"
      },
      "source": [
        "### Keywords\n",
        "\n",
        "* Keywords are reserved words they perform a specific function\n",
        "\n",
        "* They cannot used as vaiable or function name etc\n",
        "\n",
        "* Keywords are case sensitive \n",
        "\n",
        "Eg: if, return , else\n"
      ]
    },
    {
      "cell_type": "markdown",
      "metadata": {
        "id": "hIdp7yDfvNkV"
      },
      "source": [
        "### Identifiers\n",
        "\n",
        "* Identifiers imply to the name provided to a function\n",
        "* Identifiers can have letters, digits and underscore\n",
        "* the name of identifier cannot start with a digit\n",
        "* Keywords cannot be used as an identifier\n",
        "* Identifiers should not contain special characters other than uderscore"
      ]
    },
    {
      "cell_type": "code",
      "metadata": {
        "id": "khwq15JKvksY"
      },
      "source": [
        "Techn0 = 5"
      ],
      "execution_count": null,
      "outputs": []
    },
    {
      "cell_type": "code",
      "metadata": {
        "id": "ODg4vmQ0vord"
      },
      "source": [
        "Tech_No=6\n"
      ],
      "execution_count": null,
      "outputs": []
    },
    {
      "cell_type": "code",
      "metadata": {
        "colab": {
          "base_uri": "https://localhost:8080/",
          "height": 128
        },
        "id": "t511jxWFvr1F",
        "outputId": "56bcaae4-3f63-4696-8a86-cb5d036e75b3"
      },
      "source": [
        "8Techno = 9"
      ],
      "execution_count": null,
      "outputs": [
        {
          "output_type": "error",
          "ename": "SyntaxError",
          "evalue": "ignored",
          "traceback": [
            "\u001b[0;36m  File \u001b[0;32m\"<ipython-input-3-989e10de1d19>\"\u001b[0;36m, line \u001b[0;32m1\u001b[0m\n\u001b[0;31m    8Techno = 9\u001b[0m\n\u001b[0m          ^\u001b[0m\n\u001b[0;31mSyntaxError\u001b[0m\u001b[0;31m:\u001b[0m invalid syntax\n"
          ]
        }
      ]
    },
    {
      "cell_type": "code",
      "metadata": {
        "colab": {
          "base_uri": "https://localhost:8080/",
          "height": 128
        },
        "id": "KJcE162kvuCx",
        "outputId": "3a576398-fc58-46b5-8f69-3adcfbb48cae"
      },
      "source": [
        "Techn.0 = 8"
      ],
      "execution_count": null,
      "outputs": [
        {
          "output_type": "error",
          "ename": "SyntaxError",
          "evalue": "ignored",
          "traceback": [
            "\u001b[0;36m  File \u001b[0;32m\"<ipython-input-4-f8ce33153405>\"\u001b[0;36m, line \u001b[0;32m1\u001b[0m\n\u001b[0;31m    Techn.0 = 8\u001b[0m\n\u001b[0m          ^\u001b[0m\n\u001b[0;31mSyntaxError\u001b[0m\u001b[0;31m:\u001b[0m invalid syntax\n"
          ]
        }
      ]
    },
    {
      "cell_type": "code",
      "metadata": {
        "colab": {
          "base_uri": "https://localhost:8080/",
          "height": 128
        },
        "id": "Ga7PItpQvzET",
        "outputId": "2ff00d3f-4f31-4781-f193-a6eff4b33504"
      },
      "source": [
        "if =9 "
      ],
      "execution_count": null,
      "outputs": [
        {
          "output_type": "error",
          "ename": "SyntaxError",
          "evalue": "ignored",
          "traceback": [
            "\u001b[0;36m  File \u001b[0;32m\"<ipython-input-5-7f4e04754a09>\"\u001b[0;36m, line \u001b[0;32m1\u001b[0m\n\u001b[0;31m    if =9\u001b[0m\n\u001b[0m       ^\u001b[0m\n\u001b[0;31mSyntaxError\u001b[0m\u001b[0;31m:\u001b[0m invalid syntax\n"
          ]
        }
      ]
    },
    {
      "cell_type": "markdown",
      "metadata": {
        "id": "kX5zBPHIwCjM"
      },
      "source": [
        "## Variables\n",
        "\n",
        "* Variable  is a memory space alotted to store values\n",
        "* You need not declare a variable\n",
        "* The datatype of a variable is handled internally"
      ]
    },
    {
      "cell_type": "code",
      "metadata": {
        "colab": {
          "base_uri": "https://localhost:8080/"
        },
        "id": "0X-plc3Rwekt",
        "outputId": "c774b974-fdeb-4be3-dd54-b2c73304548f"
      },
      "source": [
        "a = 5\n",
        "a"
      ],
      "execution_count": null,
      "outputs": [
        {
          "output_type": "execute_result",
          "data": {
            "text/plain": [
              "5"
            ]
          },
          "metadata": {},
          "execution_count": 6
        }
      ]
    },
    {
      "cell_type": "code",
      "metadata": {
        "colab": {
          "base_uri": "https://localhost:8080/"
        },
        "id": "FnLsRmgzwmUk",
        "outputId": "3488ffa5-4054-431d-c035-994097df9953"
      },
      "source": [
        "a, b, c = 5, 6, 7\n",
        "\n",
        "(a, b, c)"
      ],
      "execution_count": null,
      "outputs": [
        {
          "output_type": "execute_result",
          "data": {
            "text/plain": [
              "(5, 6, 7)"
            ]
          },
          "metadata": {},
          "execution_count": 7
        }
      ]
    },
    {
      "cell_type": "code",
      "metadata": {
        "colab": {
          "base_uri": "https://localhost:8080/"
        },
        "id": "pEBsDh0Pw3eC",
        "outputId": "7752ab84-ee71-4a76-9af4-87d194b838bf"
      },
      "source": [
        "s = 'Techno'\n",
        "y = 'Techno'\n",
        "#Python always tries to reduce the memory used\n",
        "# Python tries to reuse the same location for different variables with same values\n",
        "id(s) == id(y)"
      ],
      "execution_count": null,
      "outputs": [
        {
          "output_type": "execute_result",
          "data": {
            "text/plain": [
              "True"
            ]
          },
          "metadata": {},
          "execution_count": 8
        }
      ]
    },
    {
      "cell_type": "code",
      "metadata": {
        "colab": {
          "base_uri": "https://localhost:8080/"
        },
        "id": "N4KMtRZcxCiM",
        "outputId": "1f44eabe-e4f5-45f9-82f0-dd39f655c351"
      },
      "source": [
        "y = 'Techno1'\n",
        "\n",
        "id(s) == id(y)"
      ],
      "execution_count": null,
      "outputs": [
        {
          "output_type": "execute_result",
          "data": {
            "text/plain": [
              "False"
            ]
          },
          "metadata": {},
          "execution_count": 9
        }
      ]
    },
    {
      "cell_type": "markdown",
      "metadata": {
        "id": "wz4CyW4bkxc1"
      },
      "source": [
        "### Input Formatting\n",
        "\n",
        "The value is entered using the function `input()` in python"
      ]
    },
    {
      "cell_type": "code",
      "metadata": {
        "colab": {
          "base_uri": "https://localhost:8080/"
        },
        "id": "2b_L7MpIlAPj",
        "outputId": "5d6466bf-889e-4ef4-af51-18665e749c5c"
      },
      "source": [
        "x = input(\"Enter the value ?\")"
      ],
      "execution_count": null,
      "outputs": [
        {
          "name": "stdout",
          "output_type": "stream",
          "text": [
            "Enter the value ?4\n"
          ]
        }
      ]
    },
    {
      "cell_type": "code",
      "metadata": {
        "colab": {
          "base_uri": "https://localhost:8080/"
        },
        "id": "sn4x621olFYt",
        "outputId": "bcf2d4dd-374d-401f-cace-fffd6eb28c77"
      },
      "source": [
        "# default type of input entered is string\n",
        "type(x)"
      ],
      "execution_count": null,
      "outputs": [
        {
          "output_type": "execute_result",
          "data": {
            "text/plain": [
              "str"
            ]
          },
          "metadata": {},
          "execution_count": 11
        }
      ]
    },
    {
      "cell_type": "code",
      "metadata": {
        "colab": {
          "base_uri": "https://localhost:8080/"
        },
        "id": "dwg4BX_qlIQN",
        "outputId": "0213b4e9-3ba0-4053-858c-ce323309cb6b"
      },
      "source": [
        "x = int(input(\"Enter the value\"))"
      ],
      "execution_count": null,
      "outputs": [
        {
          "name": "stdout",
          "output_type": "stream",
          "text": [
            "Enter the value4\n"
          ]
        }
      ]
    },
    {
      "cell_type": "code",
      "metadata": {
        "colab": {
          "base_uri": "https://localhost:8080/"
        },
        "id": "8iHLQ1LwlUKl",
        "outputId": "13b8e989-29c2-4e29-b42f-8a04d42e78a6"
      },
      "source": [
        "type(x)"
      ],
      "execution_count": null,
      "outputs": [
        {
          "output_type": "execute_result",
          "data": {
            "text/plain": [
              "int"
            ]
          },
          "metadata": {},
          "execution_count": 14
        }
      ]
    },
    {
      "cell_type": "code",
      "metadata": {
        "colab": {
          "base_uri": "https://localhost:8080/"
        },
        "id": "0jJ7tCKqlXOR",
        "outputId": "a59bb276-7ea2-4747-a237-126c7f070c1f"
      },
      "source": [
        "x = float(input(\"Enter the value\"))"
      ],
      "execution_count": null,
      "outputs": [
        {
          "name": "stdout",
          "output_type": "stream",
          "text": [
            "Enter the value4.0\n"
          ]
        }
      ]
    },
    {
      "cell_type": "code",
      "metadata": {
        "colab": {
          "base_uri": "https://localhost:8080/"
        },
        "id": "eEtq3szslhb3",
        "outputId": "3471cd1d-78da-4645-9937-5892ee908e20"
      },
      "source": [
        "type(x)"
      ],
      "execution_count": null,
      "outputs": [
        {
          "output_type": "execute_result",
          "data": {
            "text/plain": [
              "float"
            ]
          },
          "metadata": {},
          "execution_count": 16
        }
      ]
    },
    {
      "cell_type": "code",
      "metadata": {
        "colab": {
          "base_uri": "https://localhost:8080/",
          "height": 178
        },
        "id": "VVYEA4yUljwS",
        "outputId": "b7010c16-e8a4-4671-9efb-60de8f532b3f"
      },
      "source": [
        "x = float(input(\"enter the values\"))"
      ],
      "execution_count": null,
      "outputs": [
        {
          "name": "stdout",
          "output_type": "stream",
          "text": [
            "enter the values4x\n"
          ]
        },
        {
          "output_type": "error",
          "ename": "ValueError",
          "evalue": "ignored",
          "traceback": [
            "\u001b[0;31m---------------------------------------------------------------------------\u001b[0m",
            "\u001b[0;31mValueError\u001b[0m                                Traceback (most recent call last)",
            "\u001b[0;32m<ipython-input-17-fe4e0becdfd8>\u001b[0m in \u001b[0;36m<module>\u001b[0;34m()\u001b[0m\n\u001b[0;32m----> 1\u001b[0;31m \u001b[0mx\u001b[0m \u001b[0;34m=\u001b[0m \u001b[0mfloat\u001b[0m\u001b[0;34m(\u001b[0m\u001b[0minput\u001b[0m\u001b[0;34m(\u001b[0m\u001b[0;34m\"enter the values\"\u001b[0m\u001b[0;34m)\u001b[0m\u001b[0;34m)\u001b[0m\u001b[0;34m\u001b[0m\u001b[0;34m\u001b[0m\u001b[0m\n\u001b[0m",
            "\u001b[0;31mValueError\u001b[0m: could not convert string to float: '4x'"
          ]
        }
      ]
    },
    {
      "cell_type": "markdown",
      "metadata": {
        "id": "6jQAyBOKl8J9"
      },
      "source": [
        "### Output Formatting\n",
        "ref: https://docs.python.org/3/tutorial/inputoutput.html\n",
        "\n",
        "* The values are displayed in python language using the function `print()`"
      ]
    },
    {
      "cell_type": "code",
      "metadata": {
        "colab": {
          "base_uri": "https://localhost:8080/"
        },
        "id": "dAPr0gOPlsco",
        "outputId": "8fe70fa9-39cd-462b-ea92-34d213435e0a"
      },
      "source": [
        "print(\"Hello World\")"
      ],
      "execution_count": null,
      "outputs": [
        {
          "output_type": "stream",
          "name": "stdout",
          "text": [
            "Hello World\n"
          ]
        }
      ]
    },
    {
      "cell_type": "code",
      "metadata": {
        "colab": {
          "base_uri": "https://localhost:8080/"
        },
        "id": "VB13NoEMmOS9",
        "outputId": "8cbe0abe-c396-4a3e-89c4-59c10793e34b"
      },
      "source": [
        "x = 5;\n",
        "y = 6;\n",
        "print(f\"The numbers  are {x}, {y}\")"
      ],
      "execution_count": null,
      "outputs": [
        {
          "output_type": "stream",
          "name": "stdout",
          "text": [
            "The numbers  are 5, 6\n"
          ]
        }
      ]
    },
    {
      "cell_type": "code",
      "metadata": {
        "colab": {
          "base_uri": "https://localhost:8080/"
        },
        "id": "9ORtDHgJmWRM",
        "outputId": "5fa031a5-b3a0-459d-b268-408ff29a9883"
      },
      "source": [
        "x=5 ; y = 6\n",
        "\n",
        "print(\"The numbers are {}, {}\".format(x, y))"
      ],
      "execution_count": null,
      "outputs": [
        {
          "output_type": "stream",
          "name": "stdout",
          "text": [
            "The numbers are 5, 6\n"
          ]
        }
      ]
    },
    {
      "cell_type": "code",
      "metadata": {
        "colab": {
          "base_uri": "https://localhost:8080/"
        },
        "id": "5y_e0dRBmr--",
        "outputId": "9fe937ae-80b4-45d4-b158-254710914586"
      },
      "source": [
        "print(\"The numbers are {1}, {0}\".format(x,y))"
      ],
      "execution_count": null,
      "outputs": [
        {
          "output_type": "stream",
          "name": "stdout",
          "text": [
            "The numbers are 6, 5\n"
          ]
        }
      ]
    },
    {
      "cell_type": "code",
      "metadata": {
        "colab": {
          "base_uri": "https://localhost:8080/"
        },
        "id": "qP97OiSfm2aL",
        "outputId": "2994c6e3-3c0d-4884-ba5a-716cc5a642a7"
      },
      "source": [
        "print(\"The numbers are {satheesh},{ramesh}\".format(ramesh =x, satheesh= y ))"
      ],
      "execution_count": null,
      "outputs": [
        {
          "output_type": "stream",
          "name": "stdout",
          "text": [
            "The numbers are 6,5\n"
          ]
        }
      ]
    },
    {
      "cell_type": "code",
      "metadata": {
        "colab": {
          "base_uri": "https://localhost:8080/"
        },
        "id": "qCXaJQnS2wYX",
        "outputId": "7ad22a7a-2a93-4790-873e-c0d934bc2eba"
      },
      "source": [
        "#Till 2 decimal points\n",
        "x = 3.2456632\n",
        "print(\"The float value is {:.2f}\".format(x))"
      ],
      "execution_count": null,
      "outputs": [
        {
          "output_type": "stream",
          "name": "stdout",
          "text": [
            "The float value is 3.25\n"
          ]
        }
      ]
    },
    {
      "cell_type": "markdown",
      "metadata": {
        "id": "xQL0K61LnHhQ"
      },
      "source": [
        "### Python Operators\n",
        "\n",
        "Operators are the constructs that manipulates the operands\n",
        "\n",
        "Eg: 6 + 7 =13\n",
        " here (6,7 ) --> operands\n",
        "\n",
        "  (+) --> operator\n",
        "\n",
        "  *  Arithmatic operators\n",
        "  * Comparison Operators\n",
        "  * Logical Operators\n",
        "  * Assignment operators\n",
        "  * Bitwise Operators\n",
        "  * Membership Operators\n",
        "  * Identity Operators  \n",
        "\n",
        "  So let's dive in...\n",
        "  "
      ]
    },
    {
      "cell_type": "markdown",
      "metadata": {
        "id": "CtOA2JTU3l26"
      },
      "source": [
        "#### Arithmatic Operators\n"
      ]
    },
    {
      "cell_type": "code",
      "metadata": {
        "colab": {
          "base_uri": "https://localhost:8080/"
        },
        "id": "Vcb017oU3ka9",
        "outputId": "c8717390-2952-46ca-fbd7-f83dcb9fcbde"
      },
      "source": [
        "x =5; y=10\n",
        "# Addition \n",
        "print (\"Add: \",x + y)\n",
        "\n",
        "# Subtraction\n",
        "print (\"Diff: \", x - y)\n",
        "\n",
        "# Multiplication\n",
        "print(\"Prod:\", x * y)\n",
        "\n",
        "# Division\n",
        "print(\"div:\", x /y)\n",
        "\n",
        "# Modulus\n",
        "print(\"Remainder:\", 5 % 3)\n",
        "\n",
        "# Floor Division\n",
        "print(\"Floor:\", 5 // 3)\n",
        "\n",
        "# Exponentation\n",
        "print(\"exp:\", 5**3)\n",
        "\n",
        "\n"
      ],
      "execution_count": null,
      "outputs": [
        {
          "output_type": "stream",
          "name": "stdout",
          "text": [
            "Add:  15\n",
            "Diff:  -5\n",
            "Prod: 50\n",
            "div: 0.5\n",
            "Remainder: 2\n",
            "Floor: 1\n",
            "exp: 125\n"
          ]
        }
      ]
    },
    {
      "cell_type": "markdown",
      "metadata": {
        "id": "rJOTk9f35Jlh"
      },
      "source": [
        "### Assignment Operators\n",
        "\n",
        "* Assign values to the variable"
      ]
    },
    {
      "cell_type": "code",
      "metadata": {
        "colab": {
          "base_uri": "https://localhost:8080/"
        },
        "id": "5qDyGuam4Giz",
        "outputId": "3bc44066-7e5b-4e3a-a8f6-291ecd4a90d9"
      },
      "source": [
        "# =\n",
        "x = 5\n",
        "print(x)\n",
        "\n",
        "# x+=5 --> x = x+5\n",
        "x+=5\n",
        "print(x)\n",
        "\n",
        "# x-=5 --> x = x-5\n",
        "x -= 5\n",
        "print(x)\n",
        "\n",
        "# x*=5 --> x = x*5\n",
        "x *= 5\n",
        "print(x)\n",
        "\n",
        "# x/=5 --> x = x/5\n",
        "x /= 5\n",
        "print(x)\n",
        "\n",
        "# x %=5 --> x =x %5\n",
        "x %= 5\n",
        "print(x)\n",
        "\n"
      ],
      "execution_count": null,
      "outputs": [
        {
          "output_type": "stream",
          "name": "stdout",
          "text": [
            "5\n",
            "10\n",
            "5\n",
            "25\n",
            "5.0\n",
            "0.0\n"
          ]
        }
      ]
    },
    {
      "cell_type": "code",
      "metadata": {
        "colab": {
          "base_uri": "https://localhost:8080/"
        },
        "id": "1l_54xS65h1d",
        "outputId": "0484562d-21f7-4b54-b620-0be2a7d6b962"
      },
      "source": [
        "x =5\n",
        "# x **= 5 --> x = x**5\n",
        "x **= 3;\n",
        "print(x)\n",
        "\n",
        "# x //= 5 --> x = x // 5\n",
        "x //= 5\n",
        "print(x)"
      ],
      "execution_count": null,
      "outputs": [
        {
          "output_type": "stream",
          "name": "stdout",
          "text": [
            "125\n",
            "25\n"
          ]
        }
      ]
    },
    {
      "cell_type": "markdown",
      "metadata": {
        "id": "9hL0PQR7V_3z"
      },
      "source": [
        "#### Bitwise Operators\n",
        "\n",
        "* Bitwise performs bit by bit operations"
      ]
    },
    {
      "cell_type": "code",
      "metadata": {
        "colab": {
          "base_uri": "https://localhost:8080/"
        },
        "id": "TYfvjaT5WXl3",
        "outputId": "1b9ada2f-8c73-4997-f545-a754e18fc8a7"
      },
      "source": [
        "a = 4\n",
        "b = 5\n",
        "\n",
        "# binary AND\n",
        "print(a & b) # 0100 * 0101 --> 0100 (4)\n",
        "\n",
        "# binary OR\n",
        "print(a | b) # 0100 + 0101 --> 0101 (5)\n",
        "\n",
        "# binary XOR\n",
        "print(a ^ b) #0100 xor 0101 --> 0001 (1)\n",
        "\n",
        "# binary Ones Complement\n",
        "print(~a) #0100 --> -(0100 + 1) --> -(0101) -->-5\n",
        "\n",
        "# binary left shift\n",
        "print(a<<2) #0000 0100 --> 0001 0000 (16)\n",
        "\n",
        "# binary right shift \n",
        "print(a >> 3) #0000 0100 --> 0000 0000 (0)"
      ],
      "execution_count": null,
      "outputs": [
        {
          "output_type": "stream",
          "name": "stdout",
          "text": [
            "4\n",
            "5\n",
            "1\n",
            "-5\n",
            "16\n",
            "0\n"
          ]
        }
      ]
    },
    {
      "cell_type": "markdown",
      "metadata": {
        "id": "kwzgoLIWWoWM"
      },
      "source": [
        "#### Comparison Operators\n",
        "\n",
        "* These operators are generally used to compare values in the either side of the operand"
      ]
    },
    {
      "cell_type": "code",
      "metadata": {
        "colab": {
          "base_uri": "https://localhost:8080/"
        },
        "id": "G5_xdeG2YLT0",
        "outputId": "bb0e65ea-5aa4-43be-92f5-0637d409bd67"
      },
      "source": [
        "a = 4\n",
        "b = 5\n",
        "\n",
        "print(a == b) # True if a is equal to b else it returns false\n",
        "\n",
        "print(a > b) # True if a is greater than b else it return false\n",
        "\n",
        "print(a < b) # True if a is less than b else it returns false\n",
        "\n",
        "print(a != b) # True if a is not equal to b else it returns false\n",
        "\n",
        "#print(a <> b) # Similar to !=  \n",
        "\n",
        "print(a >= b) #True if a is greter than or equal to b else it returns false\n",
        "\n",
        "print(a <= b) # True if a is less than or equal to b else it return False\n"
      ],
      "execution_count": null,
      "outputs": [
        {
          "output_type": "stream",
          "name": "stdout",
          "text": [
            "False\n",
            "False\n",
            "True\n",
            "True\n",
            "False\n",
            "True\n"
          ]
        }
      ]
    },
    {
      "cell_type": "markdown",
      "metadata": {
        "id": "bryNLNatZMj_"
      },
      "source": [
        "### Logical Operators\n"
      ]
    },
    {
      "cell_type": "code",
      "metadata": {
        "colab": {
          "base_uri": "https://localhost:8080/"
        },
        "id": "qTb2mZ7CZwkn",
        "outputId": "9dd170a1-f10c-4ab8-cda4-696c575edd4f"
      },
      "source": [
        "a = True\n",
        "b = False\n",
        "\n",
        "print(a and b) #False if any of the two operands is False\n",
        "\n",
        "print(a or b) # False if both operands are False\n",
        "\n",
        "print(not a) # Inverse the logical state if True return False vice-versa"
      ],
      "execution_count": null,
      "outputs": [
        {
          "output_type": "stream",
          "name": "stdout",
          "text": [
            "False\n",
            "True\n",
            "False\n"
          ]
        }
      ]
    },
    {
      "cell_type": "markdown",
      "metadata": {
        "id": "nTU4jhm5aV6p"
      },
      "source": [
        "#### Membership Operators\n",
        "\n",
        "* Membership operators are used to checkthe presence of an element in a sequence like ... list, string, tuples\n",
        "* `in` and and `not in`are the generally used membership operators "
      ]
    },
    {
      "cell_type": "code",
      "metadata": {
        "colab": {
          "base_uri": "https://localhost:8080/"
        },
        "id": "yhjtn1EgeUMz",
        "outputId": "bbcae215-213e-4c79-affa-204ec8a2dfd7"
      },
      "source": [
        "print(7 in [1, 2, 3, 4])  #returns false since 7 is not in  the list"
      ],
      "execution_count": null,
      "outputs": [
        {
          "output_type": "stream",
          "name": "stdout",
          "text": [
            "False\n"
          ]
        }
      ]
    },
    {
      "cell_type": "code",
      "metadata": {
        "colab": {
          "base_uri": "https://localhost:8080/"
        },
        "id": "xnqxGxjAeZmG",
        "outputId": "8eb2af6b-4451-4d5c-8957-704851b11a3b"
      },
      "source": [
        "ls = 'Homer J Simpson' #returns true since the letter r is present\n",
        "print('r' in ls)"
      ],
      "execution_count": null,
      "outputs": [
        {
          "output_type": "stream",
          "name": "stdout",
          "text": [
            "True\n"
          ]
        }
      ]
    },
    {
      "cell_type": "code",
      "metadata": {
        "colab": {
          "base_uri": "https://localhost:8080/"
        },
        "id": "zvsOJnFIesXb",
        "outputId": "dd33edc8-66e6-4d2a-df45-4ec20da4ab23"
      },
      "source": [
        "print('j' not in ls) # returns true since j (not J) is not present in the string"
      ],
      "execution_count": null,
      "outputs": [
        {
          "output_type": "stream",
          "name": "stdout",
          "text": [
            "True\n"
          ]
        }
      ]
    },
    {
      "cell_type": "markdown",
      "metadata": {
        "id": "eLd6W-Sne9Gp"
      },
      "source": [
        "#### Identity Operators\n",
        "* Identity operators checks for the similarities in the memory locations\n",
        "\n",
        "* `is` and `is not` are the generally used identity operators"
      ]
    },
    {
      "cell_type": "code",
      "metadata": {
        "colab": {
          "base_uri": "https://localhost:8080/"
        },
        "id": "jxRh52lGfj5z",
        "outputId": "c57b806b-f4a9-4366-bf52-7d519ce8bf05"
      },
      "source": [
        "a = 'hello'\n",
        "b = 'hello'\n",
        "print(a is b)"
      ],
      "execution_count": null,
      "outputs": [
        {
          "output_type": "stream",
          "name": "stdout",
          "text": [
            "True\n"
          ]
        }
      ]
    },
    {
      "cell_type": "code",
      "metadata": {
        "colab": {
          "base_uri": "https://localhost:8080/"
        },
        "id": "v_wzkluUfyZ3",
        "outputId": "b1362351-21db-4467-862e-aa1a301c6d4f"
      },
      "source": [
        "print(id(a))"
      ],
      "execution_count": null,
      "outputs": [
        {
          "output_type": "stream",
          "name": "stdout",
          "text": [
            "140196767033520\n"
          ]
        }
      ]
    },
    {
      "cell_type": "code",
      "metadata": {
        "colab": {
          "base_uri": "https://localhost:8080/"
        },
        "id": "liTgmjkcfpsg",
        "outputId": "581c369b-e38d-43dd-a05a-67846836e1ae"
      },
      "source": [
        "a = 'Hello'\n",
        "print(a is b)"
      ],
      "execution_count": null,
      "outputs": [
        {
          "output_type": "stream",
          "name": "stdout",
          "text": [
            "False\n"
          ]
        }
      ]
    },
    {
      "cell_type": "code",
      "metadata": {
        "colab": {
          "base_uri": "https://localhost:8080/"
        },
        "id": "JyvgLqHlfxkJ",
        "outputId": "1219c2e8-f6c6-4457-aee0-8b9b449e56e4"
      },
      "source": [
        "print(id(a))"
      ],
      "execution_count": null,
      "outputs": [
        {
          "output_type": "stream",
          "name": "stdout",
          "text": [
            "140196630590960\n"
          ]
        }
      ]
    },
    {
      "cell_type": "code",
      "metadata": {
        "colab": {
          "base_uri": "https://localhost:8080/"
        },
        "id": "0jcwh_qXf4r1",
        "outputId": "46d90cab-578b-4405-eb29-192889aaf8e8"
      },
      "source": [
        "print(id(b))"
      ],
      "execution_count": null,
      "outputs": [
        {
          "output_type": "stream",
          "name": "stdout",
          "text": [
            "140196767033520\n"
          ]
        }
      ]
    },
    {
      "cell_type": "code",
      "metadata": {
        "colab": {
          "base_uri": "https://localhost:8080/"
        },
        "id": "KwANpurSgAR1",
        "outputId": "dbf95332-e73d-41d1-cc23-b6fbd8cac7bd"
      },
      "source": [
        "print( a is not  b)"
      ],
      "execution_count": null,
      "outputs": [
        {
          "output_type": "stream",
          "name": "stdout",
          "text": [
            "True\n"
          ]
        }
      ]
    },
    {
      "cell_type": "markdown",
      "metadata": {
        "id": "eRuOXH0HgEQV"
      },
      "source": [
        "### Control Flow Statements\n",
        "\n",
        "* The control fow in python is decided / regulated by conditional statements, loops and function calls\n"
      ]
    },
    {
      "cell_type": "markdown",
      "metadata": {
        "id": "5fKVRLOOtePB"
      },
      "source": [
        "#### Conditional Statemensts\n",
        "\n",
        "* `if` statements :\n",
        "If statements help us to run a certain part of the code only when a particular condition is met."
      ]
    },
    {
      "cell_type": "code",
      "metadata": {
        "colab": {
          "base_uri": "https://localhost:8080/"
        },
        "id": "Zrl1sEASuEH2",
        "outputId": "09a1e8f9-6383-4d5b-f29c-0e759d7fb321"
      },
      "source": [
        "name = input(\"Enter your name\")\n",
        "# If block is marked by the indentation after the if statement\n",
        "if name == 'Techno':  \n",
        "  #This runs only when the condition is met\n",
        "  print('Hey there')\n",
        "# The statements always run\n",
        "print('Have a great day')"
      ],
      "execution_count": null,
      "outputs": [
        {
          "output_type": "stream",
          "name": "stdout",
          "text": [
            "Enter your nameSara\n",
            "Have a great day\n"
          ]
        }
      ]
    },
    {
      "cell_type": "markdown",
      "metadata": {
        "id": "c6d-KN46um4r"
      },
      "source": [
        "* `if else` statements: If the condition evaluates to true the if block is executed other wise the else block is executed "
      ]
    },
    {
      "cell_type": "code",
      "metadata": {
        "colab": {
          "base_uri": "https://localhost:8080/"
        },
        "id": "tKixwtEMvD0G",
        "outputId": "0d981d11-98ea-4924-a7cf-f8d270819a14"
      },
      "source": [
        "name =input(\"Enter your name\")\n",
        "if name == 'Techno':\n",
        "  # This line is executed if the if condiyion is true\n",
        "  print('Hey there ' + name)\n",
        "  # This line is executed if the if condition is evaluated false\n",
        "else:\n",
        "  print('Have a great day stranger')"
      ],
      "execution_count": null,
      "outputs": [
        {
          "output_type": "stream",
          "name": "stdout",
          "text": [
            "Enter your nameSara\n",
            "Have a great day stranger\n"
          ]
        }
      ]
    },
    {
      "cell_type": "markdown",
      "metadata": {
        "id": "UKcB9Ebtvix9"
      },
      "source": [
        "* `if elif else` statements: Used to give multiple conditions if any of the condition is met thenn rest of the statements are droped by default"
      ]
    },
    {
      "cell_type": "code",
      "metadata": {
        "colab": {
          "base_uri": "https://localhost:8080/"
        },
        "id": "rWUIM6edv9wV",
        "outputId": "a84c20af-6da0-47e4-d20f-92551d8a3eac"
      },
      "source": [
        "age = input(\"Enter your age \")\n",
        "if int(age) > 18 :\n",
        "  print('Go grab a licence')\n",
        "elif int(age) > 100 :\n",
        "  print('You will die soon')\n",
        "elif int(age > 50):\n",
        "  print('Renew license')\n",
        "else :\n",
        "  print('You are a kid')"
      ],
      "execution_count": null,
      "outputs": [
        {
          "output_type": "stream",
          "name": "stdout",
          "text": [
            "Enter your age 50\n",
            "Go grab a licence\n"
          ]
        }
      ]
    },
    {
      "cell_type": "markdown",
      "metadata": {
        "id": "eONP6aTIwlK0"
      },
      "source": [
        "* Nested `if else` : If conditions that are inside another if or  else block used to check multiple conditions"
      ]
    },
    {
      "cell_type": "code",
      "metadata": {
        "colab": {
          "base_uri": "https://localhost:8080/"
        },
        "id": "T6mW2jW1w-iK",
        "outputId": "0ec7e92e-0d9e-4010-eb53-52face2a5260"
      },
      "source": [
        "name = input('Enter your name ')\n",
        "age = input('Enter your age')\n",
        "\n",
        "if name == 'Techno':\n",
        "  if int(age) > 20 and int(age) < 30:\n",
        "    print(\"Welcome back \" + name)\n",
        "  else:\n",
        "    print(\"You sure about the age\")\n",
        "else:\n",
        "  print('Get lost Stranger')"
      ],
      "execution_count": null,
      "outputs": [
        {
          "output_type": "stream",
          "name": "stdout",
          "text": [
            "Enter your name Techno\n",
            "Enter your age50\n",
            "You sure about the age\n"
          ]
        }
      ]
    },
    {
      "cell_type": "code",
      "metadata": {
        "id": "3d-yxZe_xgDg"
      },
      "source": [
        ""
      ],
      "execution_count": null,
      "outputs": []
    }
  ]
}